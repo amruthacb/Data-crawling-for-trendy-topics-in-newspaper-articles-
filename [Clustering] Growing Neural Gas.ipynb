{
 "cells": [
  {
   "cell_type": "code",
   "execution_count": 1,
   "metadata": {},
   "outputs": [
    {
     "name": "stdout",
     "output_type": "stream",
     "text": [
      "[[ 0.19114903  0.07474463  0.04324702 ...  0.12134494 -0.24336293\n",
      "   0.04168314]\n",
      " [-0.17134684  0.40277442  0.3884763  ... -0.00901962  0.01219993\n",
      "   0.13390625]\n",
      " [ 0.10584313 -0.07349755  0.14238161 ... -0.186909    0.236025\n",
      "   0.07090683]\n",
      " ...\n",
      " [ 0.1926912   0.02066565  0.2601867  ... -0.10042905  0.32908177\n",
      "   0.09789602]\n",
      " [ 0.08956011 -0.258464    0.51323736 ... -0.17702979  0.11898205\n",
      "   0.09100226]\n",
      " [-0.03557185  0.03519988  0.18241177 ... -0.14982776 -0.02963737\n",
      "   0.19469057]]\n",
      "(2000, 1024)\n",
      "Done.\n",
      "Fitting neural network...\n",
      "   Pass #1\n"
     ]
    },
    {
     "name": "stderr",
     "output_type": "stream",
     "text": [
      "/Library/Frameworks/Python.framework/Versions/3.6/lib/python3.6/site-packages/networkx/drawing/nx_pylab.py:126: MatplotlibDeprecationWarning:\n",
      "\n",
      "pyplot.hold is deprecated.\n",
      "    Future behavior will be consistent with the long-time default:\n",
      "    plot commands add elements without first clearing the\n",
      "    Axes and/or Figure.\n",
      "\n",
      "/Library/Frameworks/Python.framework/Versions/3.6/lib/python3.6/site-packages/networkx/drawing/nx_pylab.py:511: MatplotlibDeprecationWarning:\n",
      "\n",
      "The is_string_like function was deprecated in version 2.1.\n",
      "\n",
      "/Library/Frameworks/Python.framework/Versions/3.6/lib/python3.6/site-packages/networkx/drawing/nx_pylab.py:532: MatplotlibDeprecationWarning:\n",
      "\n",
      "The is_string_like function was deprecated in version 2.1.\n",
      "\n",
      "/Library/Frameworks/Python.framework/Versions/3.6/lib/python3.6/site-packages/networkx/drawing/nx_pylab.py:137: MatplotlibDeprecationWarning:\n",
      "\n",
      "pyplot.hold is deprecated.\n",
      "    Future behavior will be consistent with the long-time default:\n",
      "    plot commands add elements without first clearing the\n",
      "    Axes and/or Figure.\n",
      "\n",
      "/Library/Frameworks/Python.framework/Versions/3.6/lib/python3.6/site-packages/matplotlib/__init__.py:910: MatplotlibDeprecationWarning:\n",
      "\n",
      "axes.hold is deprecated. Please remove it from your matplotlibrc and/or style files.\n",
      "\n",
      "/Library/Frameworks/Python.framework/Versions/3.6/lib/python3.6/site-packages/matplotlib/rcsetup.py:156: MatplotlibDeprecationWarning:\n",
      "\n",
      "axes.hold is deprecated, will be removed in 3.0\n",
      "\n"
     ]
    },
    {
     "name": "stdout",
     "output_type": "stream",
     "text": [
      "   Pass #2\n"
     ]
    },
    {
     "data": {
      "text/html": [
       "        <script type=\"text/javascript\">\n",
       "        window.PlotlyConfig = {MathJaxConfig: 'local'};\n",
       "        if (window.MathJax) {MathJax.Hub.Config({SVG: {font: \"STIX-Web\"}});}\n",
       "        if (typeof require !== 'undefined') {\n",
       "        require.undef(\"plotly\");\n",
       "        requirejs.config({\n",
       "            paths: {\n",
       "                'plotly': ['https://cdn.plot.ly/plotly-latest.min']\n",
       "            }\n",
       "        });\n",
       "        require(['plotly'], function(Plotly) {\n",
       "            window._Plotly = Plotly;\n",
       "        });\n",
       "        }\n",
       "        </script>\n",
       "        "
      ]
     },
     "metadata": {},
     "output_type": "display_data"
    },
    {
     "name": "stdout",
     "output_type": "stream",
     "text": [
      "Found 1 clusters.\n"
     ]
    }
   ],
   "source": [
    "# coding: utf-8\n",
    "\n",
    "from gng import GrowingNeuralGas\n",
    "from sklearn import datasets, metrics\n",
    "from sklearn.preprocessing import StandardScaler\n",
    "import os\n",
    "import shutil\n",
    "import pickle\n",
    "\n",
    "\n",
    "if __name__ == '__main__':\n",
    "    if os.path.exists('visualization/sequence'):\n",
    "        shutil.rmtree('visualization/sequence')\n",
    "    os.makedirs('visualization/sequence')\n",
    "    n_samples = 2000\n",
    "        \n",
    "    with open('./News Data/pre-processed_news_original_headline_with_date_list.pickle', 'rb') as f:\n",
    "        labels = pickle.load(f)[:n_samples]\n",
    "    \n",
    "    with open('./Sentence Vector/SentenceVector_0.pickle', 'rb') as f:\n",
    "        data = pickle.load(f)[:n_samples]\n",
    "    print(data)\n",
    "    print(data.shape)\n",
    "    \n",
    "    print('Done.')\n",
    "    print('Fitting neural network...')\n",
    "    gng = GrowingNeuralGas(data, labels)\n",
    "    gng.fit_network(n_max=100, e_b=0.1, e_n=0.06, a_max=10, l=100, a=0.5, d=0.995, passes=2, plot_evolution=True)\n",
    "    \n",
    "    clustered_data = gng.cluster_data()\n",
    "    \n",
    "    print('Found %d clusters.' % gng.number_of_clusters())\n",
    "    gng.plot_clusters(clustered_data)"
   ]
  },
  {
   "cell_type": "code",
   "execution_count": 2,
   "metadata": {},
   "outputs": [],
   "source": [
    "# Make sequences as gif file\n",
    "\n",
    "import imageio\n",
    "from os import listdir\n",
    "from os.path import isfile, join\n",
    "\n",
    "mypath = \"./visualization/sequence/\"\n",
    "onlyfiles = [f for f in listdir(mypath) if isfile(join(mypath, f))]\n",
    "\n",
    "onlyfiles.sort(key = lambda element : int(element.split(\".\")[0]))\n",
    "\n",
    "images = []\n",
    "for filename in onlyfiles:\n",
    "    images.append(imageio.imread(join(mypath,filename)))\n",
    "imageio.mimsave('./visualization/movie.gif', images)"
   ]
  },
  {
   "cell_type": "code",
   "execution_count": null,
   "metadata": {},
   "outputs": [],
   "source": [
    "\n"
   ]
  }
 ],
 "metadata": {
  "anaconda-cloud": {},
  "kernelspec": {
   "display_name": "Python 3",
   "language": "python",
   "name": "python3"
  },
  "language_info": {
   "codemirror_mode": {
    "name": "ipython",
    "version": 3
   },
   "file_extension": ".py",
   "mimetype": "text/x-python",
   "name": "python",
   "nbconvert_exporter": "python",
   "pygments_lexer": "ipython3",
   "version": "3.7.7"
  }
 },
 "nbformat": 4,
 "nbformat_minor": 1
}
