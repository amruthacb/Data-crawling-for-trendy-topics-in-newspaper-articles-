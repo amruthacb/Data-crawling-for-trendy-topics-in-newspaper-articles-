{
 "cells": [
  {
   "cell_type": "code",
   "execution_count": null,
   "metadata": {},
   "outputs": [],
   "source": [
    "import os\n",
    "import numpy as np\n",
    "import pandas as pd\n",
    "import tensorflow.compat.v1 as tf\n",
    "import tensorflow_hub as hub\n",
    "from sklearn import preprocessing\n",
    "\n",
    "# ! python -m spacy download en_core_web_md #you will need to install this on first load\n",
    "import spacy\n",
    "from spacy.lang.en import English\n",
    "from spacy import displacy\n",
    "import en_core_web_sm\n",
    "nlp = en_core_web_sm.load()\n",
    "from IPython.display import HTML\n",
    "import logging\n",
    "logging.getLogger('tensorflow').disabled = True #OPTIONAL - to disable outputs from Tensorflow\n",
    "tf.disable_eager_execution()\n",
    "\n",
    "import json\n",
    "import pickle"
   ]
  },
  {
   "cell_type": "code",
   "execution_count": null,
   "metadata": {},
   "outputs": [],
   "source": [
    "####Load News Articles"
   ]
  },
  {
   "cell_type": "code",
   "execution_count": null,
   "metadata": {},
   "outputs": [],
   "source": [
    "sentencesList = []\n",
    "with open('./News Data/News_Category_Dataset_v2.json') as f:\n",
    "    for jsonObj in f:\n",
    "        jsonDict = json.loads(jsonObj)\n",
    "        sentencesList.append( (jsonDict[\"headline\"], jsonDict[\"short_description\"], jsonDict[\"date\"]) )\n",
    "\n",
    "# Sort by Date\n",
    "sentencesList.sort(key = lambda element : element[2])\n",
    "\n",
    "# Headline + Summary\n",
    "headlinesWithSummary = []\n",
    "\n",
    "# Only Headline\n",
    "headlines = []\n",
    "\n",
    "for sentence in sentencesList:\n",
    "    # sentence[0] : Headline\n",
    "    # sentence[1] : Short description\n",
    "\n",
    "    headline = sentence[0].lower().replace('\\n', ' ').replace('\\t', ' ').replace('\\xa0',' ').strip()\n",
    "    headlines.append(headline)\n",
    "    \n",
    "    text = sentence[0] + \". \" + sentence[1]\n",
    "    text = text.lower().replace('\\n', ' ').replace('\\t', ' ').replace('\\xa0',' ').strip()\n",
    "    headlinesWithSummary.append(text)\n",
    "    \n",
    "# The number of Articles\n",
    "print(len(headlinesWithSummary))\n",
    "\n",
    "with open('./News Data/pre-processed_news_headline_list.pickle', 'wb') as f:\n",
    "    pickle.dump(headlines, f)\n",
    "with open('./News Data/pre-processed_news_headline_with_summary_list.pickle', 'wb') as f:\n",
    "    pickle.dump(headlinesWithSummary, f)\n"
   ]
  },
  {
   "cell_type": "code",
   "execution_count": null,
   "metadata": {},
   "outputs": [],
   "source": [
    "####Create Sentence Embeddings"
   ]
  },
  {
   "cell_type": "code",
   "execution_count": null,
   "metadata": {},
   "outputs": [],
   "source": [
    "# Importing trained ELMo model (\"https://tfhub.dev/google/elmo/3\")\n",
    "url = \"https://tfhub.dev/google/elmo/2\"\n",
    "embed = hub.Module(url)"
   ]
  },
  {
   "cell_type": "code",
   "execution_count": null,
   "metadata": {},
   "outputs": [],
   "source": [
    "# The number of articles processed in one session\n",
    "batchSize = 400\n",
    "\n",
    "# The number of sessions saved in one file \n",
    "# ( batchSize * batchNum articles stored in one file. )\n",
    "batchNum = 100\n",
    "\n",
    "# The number of sentence vector files\n",
    "epoach = 5\n",
    "\n",
    "# Using only Headline for sentence embedding\n",
    "sentences = headlines"
   ]
  },
  {
   "cell_type": "code",
   "execution_count": null,
   "metadata": {},
   "outputs": [],
   "source": [
    "# Creating Sentence Vector files\n",
    "with tf.Session() as sess:\n",
    "    sess.run(tf.global_variables_initializer())\n",
    "    sess.run(tf.tables_initializer())\n",
    "    #for c in range(epoach):\n",
    "    for c in range(1,epoach):\n",
    "        batchEmbed = []\n",
    "        for i in range(c*batchNum, (c+1)*(batchNum)):\n",
    "            print(\"c:\", c, \"i:\", i)\n",
    "            embeddings = sess.run(embed(sentences[i*batchSize:(i+1)*batchSize],signature=\"default\",as_dict=True)[\"default\"])\n",
    "            batchEmbed.append(embeddings)\n",
    "        \n",
    "        conc = batchEmbed[0]\n",
    "        print(conc)\n",
    "        for i in range(1,batchNum):\n",
    "            conc = np.concatenate((conc, batchEmbed[i]), axis=0)\n",
    "        print(conc.shape)\n",
    "        \n",
    "        with open('./Sentence Vector/SentenceVector_'+str(c)+'.pickle', 'wb') as f:\n",
    "            pickle.dump(conc, f)\n",
    "            "
   ]
  },
  {
   "cell_type": "code",
   "execution_count": null,
   "metadata": {},
   "outputs": [],
   "source": []
  },
  {
   "cell_type": "code",
   "execution_count": null,
   "metadata": {},
   "outputs": [],
   "source": []
  }
 ],
 "metadata": {
  "kernelspec": {
   "display_name": "Python 3",
   "language": "python",
   "name": "python3"
  },
  "language_info": {
   "codemirror_mode": {
    "name": "ipython",
    "version": 3
   },
   "file_extension": ".py",
   "mimetype": "text/x-python",
   "name": "python",
   "nbconvert_exporter": "python",
   "pygments_lexer": "ipython3",
   "version": "3.7.7"
  }
 },
 "nbformat": 4,
 "nbformat_minor": 2
}
