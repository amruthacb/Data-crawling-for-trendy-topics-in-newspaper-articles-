{
 "cells": [
  {
   "cell_type": "code",
   "execution_count": 1,
   "metadata": {},
   "outputs": [],
   "source": [
    "import os\n",
    "import numpy as np\n",
    "import pandas as pd\n",
    "\n",
    "import pickle\n",
    "from numpy import dot\n",
    "from numpy.linalg import norm\n",
    "from random import *\n"
   ]
  },
  {
   "cell_type": "code",
   "execution_count": 2,
   "metadata": {},
   "outputs": [],
   "source": [
    "####Load News Articles"
   ]
  },
  {
   "cell_type": "code",
   "execution_count": 6,
   "metadata": {},
   "outputs": [],
   "source": [
    "with open('./News Data/pre-processed_news_headline_list.pickle', 'rb') as f:\n",
    "    headlines = pickle.load(f)\n",
    "    \n",
    "with open('./News Data/pre-processed_news_headline_with_summary_list.pickle', 'rb') as f:\n",
    "    headlinesWithSummary = pickle.load(f)"
   ]
  },
  {
   "cell_type": "code",
   "execution_count": 7,
   "metadata": {},
   "outputs": [],
   "source": [
    "# The number of sentence vector files\n",
    "epoach = 5\n",
    "\n",
    "# Using only Headline for sentence embedding\n",
    "sentences = headlines"
   ]
  },
  {
   "cell_type": "code",
   "execution_count": 8,
   "metadata": {},
   "outputs": [
    {
     "name": "stdout",
     "output_type": "stream",
     "text": [
      "(40000, 1024)\n",
      "(40000, 1024)\n",
      "(40000, 1024)\n",
      "(40000, 1024)\n",
      "(200000, 1024)\n"
     ]
    }
   ],
   "source": [
    "with open('./Sentence Vector/SentenceVector_0.pickle', 'rb') as f:\n",
    "    x = pickle.load(f)\n",
    "    \n",
    "for c in range(1, epoach):\n",
    "    with open('./Sentence Vector/SentenceVector_'+str(c)+'.pickle', 'rb') as f:\n",
    "        data = pickle.load(f)\n",
    "        print(data.shape)\n",
    "    x = np.concatenate((x, data), axis=0)\n",
    "print(x.shape) #(200000, 1024)"
   ]
  },
  {
   "cell_type": "code",
   "execution_count": 14,
   "metadata": {
    "scrolled": true
   },
   "outputs": [
    {
     "name": "stderr",
     "output_type": "stream",
     "text": [
      "c:\\users\\amrut\\appdata\\local\\programs\\python\\python37\\lib\\site-packages\\ipykernel_launcher.py:2: RuntimeWarning: invalid value encountered in float_scalars\n",
      "  \n"
     ]
    },
    {
     "name": "stdout",
     "output_type": "stream",
     "text": [
      "##Most 20 similar articles##\n",
      "[ 1 ]\n",
      "Sim: 0.7621021\n",
      "Headline: watch mandy moore get asked out by a total stranger on 'billy on the street'\n",
      "Sentece Vector: [ 0.19114903  0.07474463  0.04324702 ...  0.12134494 -0.24336293\n",
      "  0.04168314]\n",
      "[ 2 ]\n",
      "Sim: 0.7458628\n",
      "Headline: all the cool kids in singapore hang out on the henderson waves bridge\n",
      "Sentece Vector: [ 0.19114903  0.07474463  0.04324702 ...  0.12134494 -0.24336293\n",
      "  0.04168314]\n",
      "[ 3 ]\n",
      "Sim: 0.7408982\n",
      "Headline: watch billy eichner ambush muppets in 'billy on the sesame street'\n",
      "Sentece Vector: [ 0.19114903  0.07474463  0.04324702 ...  0.12134494 -0.24336293\n",
      "  0.04168314]\n",
      "[ 4 ]\n",
      "Sim: 0.7387555\n",
      "Headline: go tell it on the mountain, part 2 - argentina and chile: mountain-combing on the looney front\n",
      "Sentece Vector: [ 0.19114903  0.07474463  0.04324702 ...  0.12134494 -0.24336293\n",
      "  0.04168314]\n",
      "[ 5 ]\n",
      "Sim: 0.7356614\n",
      "Headline: here's a look under the tent of 'ahs: freak show'\n",
      "Sentece Vector: [ 0.19114903  0.07474463  0.04324702 ...  0.12134494 -0.24336293\n",
      "  0.04168314]\n",
      "[ 6 ]\n",
      "Sim: 0.7295081\n",
      "Headline: here's your first look at 'fear the walking dead'\n",
      "Sentece Vector: [ 0.19114903  0.07474463  0.04324702 ...  0.12134494 -0.24336293\n",
      "  0.04168314]\n",
      "[ 7 ]\n",
      "Sim: 0.72260034\n",
      "Headline: stop everything: a 'beauty and the beast'-themed cruise is happening\n",
      "Sentece Vector: [ 0.19114903  0.07474463  0.04324702 ...  0.12134494 -0.24336293\n",
      "  0.04168314]\n",
      "[ 8 ]\n",
      "Sim: 0.7203181\n",
      "Headline: watch everyone on 'morning joe' spend the morning eating white castle\n",
      "Sentece Vector: [ 0.19114903  0.07474463  0.04324702 ...  0.12134494 -0.24336293\n",
      "  0.04168314]\n",
      "[ 9 ]\n",
      "Sim: 0.7126929\n",
      "Headline: british tourists bitch about new york: shopping's 'aggressive,' skyscrapers are 'scary,' our behavior? just plain 'rude'\n",
      "Sentece Vector: [ 0.19114903  0.07474463  0.04324702 ...  0.12134494 -0.24336293\n",
      "  0.04168314]\n",
      "[ 10 ]\n",
      "Sim: 0.7109148\n",
      "Headline: great scott! someone mashed up 'back to the future' and 'westworld'\n",
      "Sentece Vector: [ 0.19114903  0.07474463  0.04324702 ...  0.12134494 -0.24336293\n",
      "  0.04168314]\n",
      "[ 11 ]\n",
      "Sim: 0.71062046\n",
      "Headline: you'll be seeing a lot of these 'time's up' pins at the golden globes\n",
      "Sentece Vector: [ 0.19114903  0.07474463  0.04324702 ...  0.12134494 -0.24336293\n",
      "  0.04168314]\n",
      "[ 12 ]\n",
      "Sim: 0.71039265\n",
      "Headline: here's what you didn't see on 'the bachelor winter games'\n",
      "Sentece Vector: [ 0.19114903  0.07474463  0.04324702 ...  0.12134494 -0.24336293\n",
      "  0.04168314]\n",
      "[ 13 ]\n",
      "Sim: 0.7103133\n",
      "Headline: oh the horror: 'kanye's place' terrifies on 'saturday night live'\n",
      "Sentece Vector: [ 0.19114903  0.07474463  0.04324702 ...  0.12134494 -0.24336293\n",
      "  0.04168314]\n",
      "[ 14 ]\n",
      "Sim: 0.7094818\n",
      "Headline: how really bad cgi almost ruined '80s disney horror flick 'watcher in the woods'\n",
      "Sentece Vector: [ 0.19114903  0.07474463  0.04324702 ...  0.12134494 -0.24336293\n",
      "  0.04168314]\n",
      "[ 15 ]\n",
      "Sim: 0.7084307\n",
      "Headline: cher rocks a biker look in the '80s (photo)\n",
      "Sentece Vector: [ 0.19114903  0.07474463  0.04324702 ...  0.12134494 -0.24336293\n",
      "  0.04168314]\n",
      "[ 16 ]\n",
      "Sim: 0.7083905\n",
      "Headline: katy perry on supposed lady gaga rivalry: 'you can't look at it like a competition'\n",
      "Sentece Vector: [ 0.19114903  0.07474463  0.04324702 ...  0.12134494 -0.24336293\n",
      "  0.04168314]\n",
      "[ 17 ]\n",
      "Sim: 0.7080825\n",
      "Headline: 10 things to do in zurich on a backpacker's budget\n",
      "Sentece Vector: [ 0.19114903  0.07474463  0.04324702 ...  0.12134494 -0.24336293\n",
      "  0.04168314]\n",
      "[ 18 ]\n",
      "Sim: 0.70754105\n",
      "Headline: baldwin's scrooge-trump flamed by ghosts on 'saturday night live'\n",
      "Sentece Vector: [ 0.19114903  0.07474463  0.04324702 ...  0.12134494 -0.24336293\n",
      "  0.04168314]\n",
      "[ 19 ]\n",
      "Sim: 0.70677626\n",
      "Headline: it's too hot to do anything but stare at these gorgeous waterfalls\n",
      "Sentece Vector: [ 0.19114903  0.07474463  0.04324702 ...  0.12134494 -0.24336293\n",
      "  0.04168314]\n",
      "[ 20 ]\n",
      "Sim: 0.7067583\n",
      "Headline: you won't be able to stop looking at this creepy abandoned treehouse mansion (photos)\n",
      "Sentece Vector: [ 0.19114903  0.07474463  0.04324702 ...  0.12134494 -0.24336293\n",
      "  0.04168314]\n"
     ]
    }
   ],
   "source": [
    "def cos_sim(A, B):\n",
    "    return dot(A, B)/(norm(A)*norm(B))\n",
    "\n",
    "idx = randint(1,x.shape[0])\n",
    "sim_list = []\n",
    "\n",
    "for i in range(x.shape[0]):\n",
    "    # Get Simlarities by consine distance measure\n",
    "    sim_list.append( ( cos_sim(x[idx], x[i]), sentences[i] ) )\n",
    "    #print(sentences[i])\n",
    "    \n",
    "sim_list.sort(key = lambda element : element[0], reverse=True)\n",
    "#sim_list_y.sort(key = lambda element : element[0], reverse=True)\n",
    "\n",
    "print(\"##Most 20 similar articles##\")\n",
    "for i in range(1,21):\n",
    "    print(\"[\",i,\"]\")\n",
    "    print(\"Sim:\",sim_list[i][0])\n",
    "    print(\"Headline:\",sim_list[i][1])\n",
    "    print(\"Sentece Vector:\",x[0])\n",
    "    \n"
   ]
  },
  {
   "cell_type": "code",
   "execution_count": null,
   "metadata": {},
   "outputs": [],
   "source": [
    "e=[1, 2, 5,6,7]\n",
    "e.sort(key = lambda element : element, reverse=True)\n",
    "print(e)"
   ]
  },
  {
   "cell_type": "code",
   "execution_count": null,
   "metadata": {},
   "outputs": [],
   "source": []
  }
 ],
 "metadata": {
  "kernelspec": {
   "display_name": "Python 3",
   "language": "python",
   "name": "python3"
  },
  "language_info": {
   "codemirror_mode": {
    "name": "ipython",
    "version": 3
   },
   "file_extension": ".py",
   "mimetype": "text/x-python",
   "name": "python",
   "nbconvert_exporter": "python",
   "pygments_lexer": "ipython3",
   "version": "3.7.7"
  }
 },
 "nbformat": 4,
 "nbformat_minor": 2
}
